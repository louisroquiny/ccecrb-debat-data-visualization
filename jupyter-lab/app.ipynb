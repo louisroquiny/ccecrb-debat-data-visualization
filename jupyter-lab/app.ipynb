{
 "cells": [
  {
   "cell_type": "code",
   "execution_count": 5,
   "id": "108f63ce-45d5-4c39-97b9-921bf6014dbd",
   "metadata": {},
   "outputs": [
    {
     "name": "stdout",
     "output_type": "stream",
     "text": [
      "Connected successfully to https://cloud.datapane.com as louis.roquiny@ccecrb.fgov.be\n"
     ]
    }
   ],
   "source": [
    "!datapane login --token=6994477aae535a836231c4531edff3864dc175ef"
   ]
  },
  {
   "cell_type": "markdown",
   "id": "4cadaefd-f383-4111-b914-f23cb275f98a",
   "metadata": {},
   "source": [
    "How much do European countries spend on their public finances?\n",
    "Imagine a budget of 1000 euros per country. How do they spend it ?"
   ]
  },
  {
   "cell_type": "code",
   "execution_count": null,
   "id": "edfcceca-091f-4a9e-84f9-efd6b68d838f",
   "metadata": {},
   "outputs": [],
   "source": [
    "# Preparation of data tables\n",
    "\n",
    "url = 'https://raw.githubusercontent.com/louisroquiny/treemap-ccecrb-debat/main/gov_10a_exp__custom_4563149.csv'\n",
    "data = pd.read_csv(url, sep = ';')\n",
    "\n",
    "# Préparation des données en utilisant la fonction melt de pandas\n",
    "data = data.melt(id_vars=['geo', 'code', 'thema', 'subthema'], var_name='year', value_name='value')\n",
    "\n",
    "# Conversion de la colonne year en entier\n",
    "data.year = pd.to_numeric(data['year'], downcast='integer')\n",
    "\n",
    "# Remplacement des valeurs manquantes par 0\n",
    "data.value = data.value.replace(\"#VALEUR!\", 0)\n",
    "\n",
    "# Conversion de la colonne value en entier\n",
    "data.value =  pd.to_numeric(data['value'], downcast='integer')\n",
    "\n",
    "# Obtention des options de pays, d'années et de secteurs pour les menus déroulants\n",
    "country_options = data[\"geo\"].unique()\n",
    "country_options = sorted(country_options)\n",
    "years = data['year'].unique()\n",
    "year_options = {str(year): str(year) for year in years}\n",
    "thema_options = data.thema.unique()\n",
    "thema_options = sorted(thema_options)\n",
    "thema_options.insert(0, 'All sectors')\n",
    "\n",
    "# Deuxième jeu de données : surplus-déficit\n",
    "# Chargement des données à partir d'une url\n",
    "url2 = 'https://raw.githubusercontent.com/louisroquiny/treemap-ccecrb-debat/main/gov_10dd_edpt1__custom_4582036_page_spreadsheet%20(1).csv'\n",
    "deficit = pd.read_csv(url2, sep = ';')\n",
    "\n",
    "# Préparation des données\n",
    "deficit = deficit.melt(id_vars=['geo'], var_name='year', value_name='value')\n",
    "\n",
    "# Conversion des colonnes year et value en entier\n",
    "deficit.year = pd.to_numeric(deficit['year'], downcast='integer')\n",
    "deficit.value = deficit.value.str.replace(\",\", \".\")\n",
    "deficit.value =  deficit.value.astype(float)"
   ]
  },
  {
   "cell_type": "code",
   "execution_count": 4,
   "id": "6bf3cdd8-ba9d-44a8-846b-205a78e18f17",
   "metadata": {},
   "outputs": [
    {
     "name": "stdout",
     "output_type": "stream",
     "text": [
      "Dash is running on http://127.0.0.1:8050/\n",
      "\n",
      "Dash is running on http://127.0.0.1:8050/\n",
      "\n",
      "Dash is running on http://127.0.0.1:8050/\n",
      "\n",
      " * Serving Flask app \"__main__\" (lazy loading)\n",
      " * Environment: production\n",
      "\u001b[31m   WARNING: This is a development server. Do not use it in a production deployment.\u001b[0m\n",
      "\u001b[2m   Use a production WSGI server instead.\u001b[0m\n",
      " * Debug mode: on\n"
     ]
    },
    {
     "ename": "SystemExit",
     "evalue": "1",
     "output_type": "error",
     "traceback": [
      "An exception has occurred, use %tb to see the full traceback.\n",
      "\u001b[1;31mSystemExit\u001b[0m\u001b[1;31m:\u001b[0m 1\n"
     ]
    },
    {
     "name": "stderr",
     "output_type": "stream",
     "text": [
      "C:\\Users\\loro.CCECRB\\Anaconda3\\lib\\site-packages\\IPython\\core\\interactiveshell.py:3405: UserWarning: To exit: use 'exit', 'quit', or Ctrl-D.\n",
      "  warn(\"To exit: use 'exit', 'quit', or Ctrl-D.\", stacklevel=1)\n"
     ]
    }
   ],
   "source": []
  }
 ],
 "metadata": {
  "kernelspec": {
   "display_name": "Python 3 (ipykernel)",
   "language": "python",
   "name": "python3"
  },
  "language_info": {
   "codemirror_mode": {
    "name": "ipython",
    "version": 3
   },
   "file_extension": ".py",
   "mimetype": "text/x-python",
   "name": "python",
   "nbconvert_exporter": "python",
   "pygments_lexer": "ipython3",
   "version": "3.9.7"
  }
 },
 "nbformat": 4,
 "nbformat_minor": 5
}
